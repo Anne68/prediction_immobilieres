{
 "cells": [
  {
   "cell_type": "code",
   "execution_count": 10,
   "id": "40f771f2",
   "metadata": {},
   "outputs": [],
   "source": [
    "import joblib\n",
    "import pandas as pd"
   ]
  },
  {
   "cell_type": "code",
   "execution_count": 5,
   "id": "262a69d2",
   "metadata": {},
   "outputs": [],
   "source": [
    "filename = 'knn_regressor_pipeline.joblib' "
   ]
  },
  {
   "cell_type": "code",
   "execution_count": 6,
   "id": "9eca546a",
   "metadata": {},
   "outputs": [],
   "source": [
    "loaded_pipeline = joblib.load(filename)"
   ]
  },
  {
   "cell_type": "code",
   "execution_count": 7,
   "id": "3b92a2e5",
   "metadata": {},
   "outputs": [],
   "source": [
    "def predict_house_price(longitude, latitude, housing_median_age, total_rooms, total_bedrooms, population, households, median_income, ocean_proximity):\n",
    "    input_data = pd.DataFrame([[longitude, latitude, housing_median_age, total_rooms, total_bedrooms, population, households, median_income, ocean_proximity]],\n",
    "                             columns=['longitude', 'latitude', 'housing_median_age', 'total_rooms', 'total_bedrooms', 'population', 'households', 'median_income', 'ocean_proximity'])\n",
    "\n",
    "    prediction = loaded_pipeline.predict(input_data)\n",
    "    return prediction[0]"
   ]
  },
  {
   "cell_type": "code",
   "execution_count": 16,
   "id": "7afbda76",
   "metadata": {},
   "outputs": [
    {
     "name": "stdout",
     "output_type": "stream",
     "text": [
      "Predicted price: 378266.6666666667\n"
     ]
    }
   ],
   "source": [
    "example_input = [-126.45, 37.78, 25, 8, 3, 350, 120, 8.5, 'NEAR BAY']\n",
    "predicted_price = predict_house_price(*example_input)\n",
    "print(\"Predicted price:\", predicted_price)\n"
   ]
  }
 ],
 "metadata": {
  "kernelspec": {
   "display_name": "Python 3 (ipykernel)",
   "language": "python",
   "name": "python3"
  },
  "language_info": {
   "codemirror_mode": {
    "name": "ipython",
    "version": 3
   },
   "file_extension": ".py",
   "mimetype": "text/x-python",
   "name": "python",
   "nbconvert_exporter": "python",
   "pygments_lexer": "ipython3",
   "version": "3.10.6"
  },
  "toc": {
   "base_numbering": 1,
   "nav_menu": {},
   "number_sections": true,
   "sideBar": true,
   "skip_h1_title": false,
   "title_cell": "Table of Contents",
   "title_sidebar": "Contents",
   "toc_cell": false,
   "toc_position": {},
   "toc_section_display": true,
   "toc_window_display": false
  }
 },
 "nbformat": 4,
 "nbformat_minor": 5
}
